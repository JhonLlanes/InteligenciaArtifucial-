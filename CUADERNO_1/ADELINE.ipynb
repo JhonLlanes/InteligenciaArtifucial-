{
 "cells": [
  {
   "cell_type": "markdown",
   "metadata": {},
   "source": [
    "# ADELINE\n",
    "### Nombre: John Llanes"
   ]
  },
  {
   "cell_type": "markdown",
   "metadata": {},
   "source": [
    "## Introduccion\n",
    "</br>\n",
    "</br>\n",
    "<div class=text-justify>\n",
    "La inteligencia artificial en su desarrollo a tratado de cumplir con su objetivo primordial que es creación de entiendades que piensen y actúen como los seres humanos, para ha hecho de las redes neuronales artificiales que han sido a gran avance ya que son capaces de resolver problemas complejos y tienen la capacidad de auto aprendizaje, estas redes neuronales artificiales están inspiradas en las redes neuronales biológicas de los seres humanos, gracias a esto han desarrollado diversos modelos de redes neuronales entre estos las redes Adaline que son capaces de resolver problemas mas complejos y es una de los muchos avances de la inteligencia artificial.</div>"
   ]
  },
  {
   "cell_type": "markdown",
   "metadata": {},
   "source": [
    "![Texto alternativo](02_09.png)"
   ]
  },
  {
   "cell_type": "markdown",
   "metadata": {},
   "source": [
    "La regresión lineal y las neuronas lineales adaptativas (Adalines) están estrechamente relacionadas entre sí. De hecho, el algoritmo Adaline es idéntico a la regresión lineal, excepto por una función de umbral\n",
    "$\\phi(\\cdot)_T$\n",
    "que convierte la salida continua en una etiqueta de clase categórica\n",
    "<div class=text-center>\n",
    "$\\phi(z)_T = \\begin{cases} \n",
    "      1 & if \\; z \\geq 0 \\\\\n",
    "      0 & if \\; z < 0 \n",
    "   \\end{cases}$\n",
    "</div>\n",
    "donde z es la entrada neta, que se calcula como la suma de las entidades de entrada x multiplicada por los pesos del modelo w:\n",
    "<div class=text-center>\n",
    "$ z = w_0x_0 + w_1x_1 \\dots w_mx_m = \\sum_{j=0}^{m} x_j w_j = \\mathbf{w}^T \\mathbf{x}$\n",
    "    </div>\n",
    "Igual que en el caso del perceptrón, la actualización de pesos se realiza calculando\n",
    "\n",
    "$ w_j := w_j + \\eta(y^{(i)} - \\hat y^{(i)})x_j^{(i)}$\n",
    "\n",
    "Para el perceptrón tanto y(i) como y^(i) son etiquetas de clases con solo dos posibles valores. En el caso de Adaline se usan valores continuos.\n",
    "\n",
    "La idea de la función de costos es definir una función que se pueda optimizar durante el proceso de aprendizaje. Para ello utilizamos la suma de los errores al cuadrado\n",
    "\n",
    "$ J({\\mathbf{w}}) = \\frac{1}{2} \\sum_i \\big(y^{(i)} - \\phi(z)_{A}^{(i)}\\big)^2 $\n",
    "\n",
    "donde $ \\frac{1}{2} $ se incluye para simplificar cálculos posteriores. Como buscamos el $ \\mathbf{w} $ que minimiza el valor de esa función, multiplicarla por una constante no afecta al resultado. Como siempre, $ y^{(i)} $ es el resultado esperado para la muestra $ \\phi(z)_{A}^{(i)} $ es la salida de la función de activación (A) para la muestra I.\n",
    "\n",
    "Esta función es diferenciable y convexa, lo que nos permite calcular un mínimo. Como nuestra función de costos sólo depende de los pesos w, minimizarla nos dará el peso que tenga una menor diferencia entre la salida esperada y la obtenida $ y^{(i)} - \\phi(z)_{A}^{(i)} $\n",
    "\n",
    "Nuestro objetivo, como siempre, es ajustar el peso w en incrementos Δw:\n",
    "\n",
    "$ \\mathbf{w} := \\mathbf{w} + \\Delta \\mathbf{w} $\n",
    "\n"
   ]
  },
  {
   "cell_type": "markdown",
   "metadata": {},
   "source": [
    "## Aplicaciones de la red Adaline\n",
    "Entre las aplicaciones que tenemos para este tipo de red neuronal artificial tenemos las siguientes:\n",
    "- Asociación de patrones: Este tipo de aplicación puede ser útil para resolver problemas en donde los patrones siempre sean linealmente separables. \n",
    "Dentro del campo del procesamiento de señales la red Adeline puede ser utiliza como: \n",
    "- Filtros de ruido: Sirven para limpiar los ruidos de las señales que transmiten la información.\n",
    "- Filtros adaptivos: Una red Adeline es capaz de predecir los valores de una señal en un instante si se conoce el valor del mismo en instantes anteriores. El error de prediccion de la red sera mayor o menor dependiendo del tipo de señal que queremos predecir.\n"
   ]
  },
  {
   "cell_type": "markdown",
   "metadata": {},
   "source": [
    "## Algoritmo de Apredizaje\n",
    "\n",
    "1. Inicializar los pesos en forma aleatoria\n",
    "2. Introducir un patrón de entrada\n",
    "3. Calcular la  salida (y), compararla con la deseada (d) y obtener la diferencia (dp - yp)\n",
    "4. Multiplicar el resultado del paso anterior por la entrada correspondiente a cada uno de los pesos  y ponderarla por la tasa de aprendizaje.\n",
    "5. Actualizar los pesos, sumando al valor antiguo la cantidad obtenida en el paso anterior\n",
    "6. Si no se ha cumplido el criterio de parada, regresar al paso 2, si se ha acabado todos los  patrones repetir el algoritmo."
   ]
  },
  {
   "cell_type": "markdown",
   "metadata": {},
   "source": [
    "## Criterios de parada\n",
    "1. Fijar un número de ciclos máximo. Dicho número debe garantizar que el error cuadrático para los patrones de entrenamiento se haya estabilizado.\n",
    "2. Cuando el error cuadrático sobre los patrones de entrenamiento no cambia durante x ciclos.\n",
    "3. Cuando el error cuadrático sobre los patrones de validación no aumenta o se mantiene estable a lo largo de x ciclos."
   ]
  },
  {
   "cell_type": "markdown",
   "metadata": {},
   "source": [
    "![Texto alternativo](1.JPG)\n",
    "![Texto alternativo](2.JPG)\n",
    "![Texto alternativo](3.JPG)\n",
    "![Texto alternativo](4.JPG)\n",
    "![Texto alternativo](5.JPG)\n",
    "\n"
   ]
  },
  {
   "cell_type": "markdown",
   "metadata": {},
   "source": [
    "## Diferencia entre \n",
    "\n",
    "![Texto alternativo](fl.png)\n"
   ]
  },
  {
   "cell_type": "markdown",
   "metadata": {},
   "source": [
    "## Ejemplo 1 Adeline\n",
    "\n",
    "Puede comentar el primer o el segundo problema para ver cómo funciona la red ADALINE con problemas linealmente separables y no linealmente separables.\n",
    "1. Primer problema compuerta OR\n",
    "2. Segundo problema XOR NOR"
   ]
  },
  {
   "cell_type": "code",
   "execution_count": 11,
   "metadata": {
    "scrolled": true
   },
   "outputs": [
    {
     "name": "stdout",
     "output_type": "stream",
     "text": [
      "Random Weights before training [[-0.16595599]\n",
      " [ 0.44064899]\n",
      " [-0.99977125]]\n",
      "New Weights after training [[0.73404401]\n",
      " [1.34064899]\n",
      " [1.70022875]]\n",
      "Actual  -1 Desired  [-1]\n",
      "Actual  1 Desired  [1]\n",
      "Actual  1 Desired  [1]\n",
      "Actual  1 Desired  [1]\n"
     ]
    },
    {
     "data": {
      "image/png": "[encoded data removed]",
      "text/plain": [
       "<Figure size 432x288 with 1 Axes>"
      ]
     },
     "metadata": {
      "needs_background": "light"
     },
     "output_type": "display_data"
    }
   ],
   "source": [
    "import numpy as np\n",
    "import matplotlib.pyplot as plt\n",
    "import math\n",
    "\n",
    "LEARNING_RATE = 0.45\n",
    "\n",
    "# Step function\n",
    "def step(x):\n",
    "    if (x > 0):\n",
    "        return 1\n",
    "    else:\n",
    "        return -1;\n",
    "    \n",
    "\"\"\"\n",
    "You can comment out either the first or second problem to see how the ADALINE network performs with\n",
    "linearly separable and non linearly separable problems.\n",
    "\"\"\"\n",
    "\n",
    "# F I R S T   P R O B L E M - L O G I C A L   O R   L I N E A R\n",
    "# input dataset representing the logical OR operator (including constant BIAS input of 1)\n",
    "INPUTS = np.array([[-1,-1,1],\n",
    "                   [-1,1,1],\n",
    "                   [1,-1,1],\n",
    "                   [1,1,1] ])\n",
    "# output dataset - Only output a -1 if both inputs are -1          \n",
    "OUTPUTS = np.array([[-1,1,1,1]]).T\n",
    "\n",
    "\n",
    "# S E C O N D   P R O B L E M - L O G I C A L   X O R - N O N   L I N E A R\n",
    "# input dataset representing the logical OR operator (including constant BIAS input of 1)\n",
    "#INPUTS = np.array([[-1,-1,1],\n",
    "#                   [-1,1,1],\n",
    "#                   [1,-1,1],\n",
    "#                   [1,1,1] ])\n",
    "# output dataset - Only output a -1 if both inputs are -1          \n",
    "#OUTPUTS = np.array([[-1,1,1,-1]]).T\n",
    "\n",
    "# seed random numbers to make calculation\n",
    "# deterministic (just a good practice for testing)\n",
    "np.random.seed(1)\n",
    "\n",
    "# initialize weights randomly with mean 0\n",
    "WEIGHTS = 2*np.random.random((3,1)) - 1\n",
    "print(\"Random Weights before training\", WEIGHTS)\n",
    "\n",
    "# Use this list to store the errors\n",
    "errors=[]\n",
    "\n",
    "# Training loop\n",
    "for iter in range(100):\n",
    "    for input_item,desired in zip(INPUTS, OUTPUTS):\n",
    "        \n",
    "        # Feed this input forward and calculate the ADALINE output\n",
    "        ADALINE_OUTPUT = (input_item[0]*WEIGHTS[0]) + (input_item[1]*WEIGHTS[1]) + (input_item[2]*WEIGHTS[2])\n",
    "\n",
    "        # Run ADALINE_OUTPUT through the step function\n",
    "        ADALINE_OUTPUT = step(ADALINE_OUTPUT)\n",
    "\n",
    "        # Calculate the ERROR generated\n",
    "        ERROR = desired - ADALINE_OUTPUT\n",
    "        \n",
    "        # Store the ERROR\n",
    "        errors.append(ERROR)\n",
    "        \n",
    "        # Update the weights based on the delta rule\n",
    "        WEIGHTS[0] = WEIGHTS[0] + LEARNING_RATE * ERROR * input_item[0]\n",
    "        WEIGHTS[1] = WEIGHTS[1] + LEARNING_RATE * ERROR * input_item[1]\n",
    "        WEIGHTS[2] = WEIGHTS[2] + LEARNING_RATE * ERROR * input_item[2]\n",
    "    \n",
    "    \n",
    "\n",
    "\n",
    "print (\"New Weights after training\", WEIGHTS)\n",
    "for input_item,desired in zip(INPUTS, OUTPUTS):\n",
    "    # Feed this input forward and calculate the ADALINE output\n",
    "    ADALINE_OUTPUT = (input_item[0]*WEIGHTS[0]) + (input_item[1]*WEIGHTS[1]) + (input_item[2]*WEIGHTS[2])\n",
    "\n",
    "    # Run ADALINE_OUTPUT through the step function\n",
    "    ADALINE_OUTPUT = step(ADALINE_OUTPUT)\n",
    "\n",
    "    print(\"Actual \", ADALINE_OUTPUT, \"Desired \", desired)\n",
    "\n",
    "\n",
    "# Plot the errors to see how we did during training\n",
    "ax = plt.subplot(111)\n",
    "ax.plot(errors, c='#aaaaff', label='Training Errors')\n",
    "ax.set_xscale(\"log\")\n",
    "plt.title(\"ADALINE Errors (2,-2)\")\n",
    "plt.legend()\n",
    "plt.xlabel('Error')\n",
    "plt.ylabel('Value')\n",
    "plt.show()\n",
    "\n"
   ]
  },
  {
   "cell_type": "code",
   "execution_count": 14,
   "metadata": {},
   "outputs": [
    {
     "name": "stdout",
     "output_type": "stream",
     "text": [
      "Error: 0.4964100319027255\n",
      "Error: 0.008584525653247157\n",
      "Error: 0.005789459862507806\n",
      "Error: 0.004629176776769983\n",
      "Error: 0.0039587652802736475\n",
      "Error: 0.0035101225678616744\n",
      "Error: 0.003183502385874826\n",
      "Error: 0.0029323063422830717\n",
      "Error: 0.0027315064182105056\n",
      "Error: 0.0025663172400400267\n",
      "Output pos entrenamiento\n",
      "[[0.00199094]\n",
      " [0.99751458]\n",
      " [0.99771098]\n",
      " [0.00294418]]\n"
     ]
    }
   ],
   "source": [
    "#!/usr/bin/env python\n",
    "# -*- coding:utf-8 -*-\n",
    "\n",
    "import numpy as np\n",
    "def sigmoid(x, deriv=False):\n",
    "    \"\"\"\n",
    "    Sigmod retorna un valor entre 0 y 1, es usado para genera la probabilidad \n",
    "    de un numero.\n",
    "    \n",
    "    https://es.wikipedia.org/wiki/Funci%C3%B3n_sigmoide\n",
    "    \"\"\"\n",
    "    if deriv:\n",
    "        return x * (1 - x)\n",
    "\n",
    "    return 1 / (1 + np.exp(-x))\n",
    "\n",
    "\n",
    "# input data A, B, X\n",
    "X = np.array([\n",
    "    [0,0,1],\n",
    "    [0,1,1],\n",
    "    [1,0,1],\n",
    "    [1,1,1],\n",
    "    ])\n",
    "\n",
    "# output data Q\n",
    "y = np.array([\n",
    "    [0],\n",
    "    [1],\n",
    "    [1],\n",
    "    [0],\n",
    "    ])\n",
    "\n",
    "# setea el generador de num. aleatorios con una semilla conocida = 1\n",
    "np.random.seed(1)\n",
    "\n",
    "# Matriz de Sinapsis, es la conección entre una neurona y una capa y todas las neuronas\n",
    "# de la capa siguinte. https://upload.wikimedia.org/wikipedia/commons/4/46/Colored_neural_network.svg\n",
    "# Esta red es de 3 layers asi que solo tenemos 2 sinapsis.\n",
    "#\n",
    "# capa1 <-- sinapsis0 --> capa2 <-- sinapsis1 --> capa3\n",
    "n_layers = 3\n",
    "n_connections = 4\n",
    "n_outputs = 1\n",
    "\n",
    "# Matríz de sinapsis 0, conecta el layer 0 con el layer 1\n",
    "# A [n,n,n,n,] \n",
    "# B [n,n,n,n,] \n",
    "# X [n,n,n,n,] \n",
    "syn0 = 2 * np.random.random((n_layers, n_connections)) - 1\n",
    " \n",
    "# Matríz de sinapsis 1, conecta el layer 1 con el layer 2\n",
    "#  Q\n",
    "# [n]\n",
    "# [n]\n",
    "# [n]\n",
    "# [n]\n",
    "syn1 = 2 * np.random.random((n_connections, n_outputs)) - 1\n",
    "\n",
    "# Etapa de entrenamiento sobre 60000 iteraciones y cada 10000 mostramos la \n",
    "# reducción del error.\n",
    "n_trainning = 100000\n",
    "n_error_debug = 10000\n",
    "for j in range(n_trainning):\n",
    "\n",
    "    layer0 = X\n",
    "    layer1 = sigmoid(np.dot(layer0, syn0))\n",
    "    layer2 = sigmoid(np.dot(layer1, syn1))\n",
    "\n",
    "    layer2_err = y - layer2\n",
    "\n",
    "    if (j % n_error_debug) == 0:\n",
    "        print (\"Error: \" + str(np.mean(np.abs(layer2_err))))\n",
    "\n",
    "\n",
    "    layer2_delta = layer2_err * sigmoid(layer2, deriv=True)\n",
    "    \n",
    "    layer1_err = layer2_delta.dot(syn1.T)\n",
    "\n",
    "    layer1_delta = layer1_err * sigmoid(layer1, deriv=True)\n",
    "\n",
    "    # actualiza el weight (peso), algoritmo gradient descent\n",
    "    syn1 += layer1.T.dot(layer2_delta)\n",
    "    syn0 += layer0.T.dot(layer1_delta)\n",
    "\n",
    "# Finalmente mostramos el resultado\n",
    "print (\"Output pos entrenamiento\")\n",
    "print (layer2)"
   ]
  },
  {
   "cell_type": "markdown",
   "metadata": {},
   "source": [
    "## CONCLUSIONES\n",
    "La Red Adaline es un mecanismo físico capaz de realizar aprendizaje es un elemento Combinador Adaptativo, recibe un conjunto de entradas y las combina para producir una salida entonces ADALINE es un modelo de aprendizaje.\n",
    "Las redes Adaline se basan en el objetivo de evaluar  de la forma más  correcta la salida, para de esta manera poder minimizar el error medio cuadrático, por tanto son muy similares al Perceptrón, lo único en lo que cambian es la transferencia en la salida.\n",
    "Adaline tiene una considerable diferencia con respecto a Perceptron, puesto que en la modificación de los pesos que se dan en la preparación, la Red Adaline tiene muy presente el valor de corrección de la salida estimada con relación a la esperada."
   ]
  },
  {
   "cell_type": "markdown",
   "metadata": {},
   "source": [
    "## BIBLIOGRAFÍA\n",
    "\n",
    "Medina, E; Cubides, H; Salazar, J y Sigüencia, J. 2010. Redes Adaline – Filtros Adaptativos. (En Línea). Consultado,  03 de Jun del 2015. Disponible en: http://es.scribd.com/doc/52002261/Adeline-1\n",
    "\n",
    "Galván, I y Valls, J. 2010. Redes de Neuronas Artificiales. (En Línea). Consultado,  02 de Jun del 2015. Formato (PDF). Disponible en: http://ocw.uc3m.es/ingenieria-informatica/redes-de-neuronas-artificiales/transparencias/material-de-clase.-tema-2\n",
    "\n",
    "Torres, Luis .2008. Redes Neuronales Artificiales. (En Línea).Consultado 16 de Jun 2015. Formato (PDF).Disponible en http://disi.unal.edu.co/~lctorress/RedNeu/RNA006c.pdf\n",
    "\n",
    "Valls, J. 2007. Redes de Neuronas Perceptrón y Adaline. (En Línea). Consultado,  24 de Junio 2015. Formato (PDF). Disponible en: http://eva.evannai.inf.uc3m.es/et/docencia/rn-inf/documentacion/Tema2-PerceptronAdaline.pdf\n",
    "\n",
    "Roncagllolo, P. s.f. Procesamiento Digital de Imágenes. (En Línea). Consultado,  24 de Jun 2015. Formato (PDF). Disponible en: http://www2.elo.utfsm.cl/~elo328/PDI21_RedesNeuronales.pdf"
   ]
  }
 ],
 "metadata": {
  "kernelspec": {
   "display_name": "sillanes",
   "language": "python",
   "name": "sillanes"
  },
  "language_info": {
   "codemirror_mode": {
    "name": "ipython",
    "version": 3
   },
   "file_extension": ".py",
   "mimetype": "text/x-python",
   "name": "python",
   "nbconvert_exporter": "python",
   "pygments_lexer": "ipython3",
   "version": "3.7.3"
  }
 },
 "nbformat": 4,
 "nbformat_minor": 2
}
