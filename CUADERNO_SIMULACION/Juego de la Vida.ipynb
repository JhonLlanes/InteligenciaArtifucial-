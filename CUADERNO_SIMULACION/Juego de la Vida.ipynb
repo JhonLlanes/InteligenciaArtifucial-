{
 "cells": [
  {
   "cell_type": "markdown",
   "metadata": {},
   "source": [
    "## Juego de la vida\n",
    "### John Llanes"
   ]
  },
  {
   "cell_type": "markdown",
   "metadata": {},
   "source": [
    "### Introduccion\n",
    "\n",
    "Se trata de un juego de cero jugadores, lo que quiere decir que su evolución está determinada por el estado inicial y no necesita ninguna entrada de datos posterior. El \"tablero de juego\" es una malla plana formada por cuadrados (las \"células\") que se extiende por el infinito en todas las direcciones. Por tanto, cada célula tiene 8 células \"vecinas\", que son las que están próximas a ella, incluidas las diagonales. Las células tienen dos estados: están \"vivas\" o \"muertas\" (o \"encendidas\" y \"apagadas\"). El estado de las células evoluciona a lo largo de unidades de tiempo discretas (se podría decir que por turnos). El estado de todas las células se tiene en cuenta para calcular el estado de las mismas al turno siguiente. Todas las células se actualizan simultáneamente en cada turno, siguiendo estas reglas:\n",
    "\n",
    "    Una célula muerta con exactamente 3 células vecinas vivas \"nace\" (es decir, al turno siguiente estará viva).\n",
    "    Una célula viva con 2 o 3 células vecinas vivas sigue viva, en otro caso muere (por \"soledad\" o \"superpoblación\")."
   ]
  },
  {
   "cell_type": "markdown",
   "metadata": {},
   "source": [
    "![Alt Text](http://www.golhood.com/wp-content/uploads/2015/07/Reglas-GOL-1024x538.png)\n",
    "![Alt Text](https://upload.wikimedia.org/wikipedia/commons/7/7e/GameOfLife_Glider_Animation.gif)"
   ]
  },
  {
   "cell_type": "markdown",
   "metadata": {},
   "source": [
    "####  - Osciladores\n",
    "Los osciladores son patrones que son predecesores de sí mismos. En otras palabras, son patrones que tras un número finito de generaciones vuelven a su estado inicial. El número de generaciones determina el período del oscilador. Se han descubierto osciladores de todos los períodos, pues hay reglas para generar osciladores de cualquier período deseado.\n",
    "#### - Vidas estáticas\n",
    "Las vidas estáticas son patrones que no cambian de una generación a la siguiente. Las vidas estáticas se puede considerar como osciladores de período 1. En general se asume que las vidas estáticas son finitas y no vacías. Se las puede dividir en vidas estáticas estrictas y pseudo vidas estáticas. Las vidas estáticas estrictas son aquellas cuyas partes no son estáticas por sí mismas.\n",
    "#### - Naves espaciales\n",
    "Las naves espaciales son patrones que reaparecen en otra posición tras completar su período. Esto es, son patrones que tras un número finito de generaciones vuelven a su estado original pero en una ubicación diferente. La velocidad de una nave es el número de celdas que se desplaza dividido por la longitud de su período.\n",
    "\n",
    "\n",
    "![Alt Text](https://upload.wikimedia.org/wikipedia/commons/e/e5/Gospers_glider_gun.gif)\n",
    "#### - Matusalenes\n",
    "Los matusalenes son patrones que pueden evolucionar a lo largo de muchos turnos, o generaciones, antes de estabilizarse. El patrón Diehard desaparece después de 130 turnos, mientras que Acorn tarda 5206 turnos en estabilizarse en forma de muchos osciladores, y en ese tiempo genera 13 planeadores"
   ]
  },
  {
   "cell_type": "markdown",
   "metadata": {},
   "source": [
    "### Librerias necesarias"
   ]
  },
  {
   "cell_type": "code",
   "execution_count": 11,
   "metadata": {},
   "outputs": [],
   "source": [
    "import numpy as np \n",
    "import matplotlib.pyplot as plt \n",
    "import matplotlib.patches as patches"
   ]
  },
  {
   "cell_type": "markdown",
   "metadata": {},
   "source": [
    "### Creacion de la matriz"
   ]
  },
  {
   "cell_type": "code",
   "execution_count": 12,
   "metadata": {},
   "outputs": [],
   "source": [
    "def exten(mat): \n",
    "    n = len(mat) \n",
    "    ex = np.zeros((n+2,n+2)) \n",
    "    ex[1:n+1,1:n+1] = mat \n",
    "    return ex"
   ]
  },
  {
   "cell_type": "markdown",
   "metadata": {},
   "source": [
    "### Esta parte se ejecuta para ver la cantidad de los vecinos"
   ]
  },
  {
   "cell_type": "code",
   "execution_count": 13,
   "metadata": {},
   "outputs": [],
   "source": [
    "def veci(i,j, ex): \n",
    "    return (ex[i,j-1] + ex[i,j+1] + ex[i-1,j-1] + (ex[i-1,j] + ex[i-1,j+1] + ex[i+1,j-1]) + (ex[i+1,j]+ ex[i+1,j+1]))"
   ]
  },
  {
   "cell_type": "markdown",
   "metadata": {},
   "source": [
    "### Se crea las reglas para el juego de la vida"
   ]
  },
  {
   "cell_type": "code",
   "execution_count": 14,
   "metadata": {},
   "outputs": [],
   "source": [
    "def reglas(mat): \n",
    "    n = len(mat) \n",
    "    ex = exten(mat) \n",
    "    nmat = np.zeros((n,n)) \n",
    "    for i in range(1,n+1): \n",
    "        for j in range(1,n+1): \n",
    "            s = veci(i,j,ex) \n",
    "            if s>3 or s <=1: \n",
    "                nmat[i-1,j-1] = 0 \n",
    "            if s == 3 and mat[i-1,j-1]== 0: \n",
    "                nmat[i-1,j-1] = 1 \n",
    "            if (s == 3 or s== 2) and mat[i-1,j-1]== 1: \n",
    "                nmat[i-1,j-1] = 1 \n",
    "    return nmat"
   ]
  },
  {
   "cell_type": "markdown",
   "metadata": {},
   "source": [
    "### Este método nos permite ejecutar las reglas un cierto número de veces"
   ]
  },
  {
   "cell_type": "code",
   "execution_count": 15,
   "metadata": {},
   "outputs": [],
   "source": [
    "def correr(n,ini): \n",
    "    pasos = [] \n",
    "    pasos.append(ini) \n",
    "    g = ini \n",
    "    for i in range(n): \n",
    "        g = reglas(g) \n",
    "        pasos.append(g) \n",
    "    return pasos"
   ]
  },
  {
   "cell_type": "markdown",
   "metadata": {},
   "source": [
    "### Creacion de una muestra"
   ]
  },
  {
   "cell_type": "code",
   "execution_count": 83,
   "metadata": {},
   "outputs": [],
   "source": [
    "init = np.zeros((34,34)) \n",
    "init[3,4] = 1\n",
    "init[3,5] = 1 \n",
    "init[3,6] = 1 \n",
    "init[3,7] = 1\n",
    "init[4,3] = 1 \n",
    "init[5,3] = 1 \n",
    "init[6,3] = 1 \n",
    "init[3,7] = 1 \n",
    "init[4,7] = 1 \n",
    "init[5,7] = 1 \n",
    "init[6,7] = 1\n"
   ]
  },
  {
   "cell_type": "markdown",
   "metadata": {},
   "source": [
    "### Se llama al método, por lo que realiza 5 interacciones a la matriz inicial."
   ]
  },
  {
   "cell_type": "code",
   "execution_count": 84,
   "metadata": {},
   "outputs": [],
   "source": [
    "res = correr(5, init)"
   ]
  },
  {
   "cell_type": "markdown",
   "metadata": {},
   "source": [
    "### Tamaño de la Matriz"
   ]
  },
  {
   "cell_type": "code",
   "execution_count": 85,
   "metadata": {},
   "outputs": [
    {
     "name": "stdout",
     "output_type": "stream",
     "text": [
      "34\n"
     ]
    }
   ],
   "source": [
    "print (len(res[5]))"
   ]
  },
  {
   "cell_type": "markdown",
   "metadata": {},
   "source": [
    "### Método que permite graficar una matriz."
   ]
  },
  {
   "cell_type": "code",
   "execution_count": 86,
   "metadata": {},
   "outputs": [],
   "source": [
    "def grafmat(mt): \n",
    "    n = len(mt) \n",
    "    dx = 1/n \n",
    "    pieces = [] \n",
    "    frame = patches.Rectangle( \n",
    "        (0.0, 0.0),1, 1, fill=False, edgecolor=\"white\",linewidth=2) \n",
    "    pieces.append(frame) \n",
    "    for j in range(n): \n",
    "        for i in range(n): \n",
    "            if mt[i,j]== 1: \n",
    "                p = patches.Rectangle( \n",
    "                    (j/n,(n-1-i)/n), dx,dx, edgecolor=\"Blue\", facecolor=\"black\", fill=True, linewidth=2 )\n",
    "                pieces.append(p) \n",
    "            if mt[i,j]== 0:\n",
    "                p = patches.Rectangle( \n",
    "                    (j/n,(n-1-i)/n), dx,dx, edgecolor=\"Blue\", fill=False,linewidth=2) \n",
    "                pieces.append(p) \n",
    "    return pieces\n"
   ]
  },
  {
   "cell_type": "code",
   "execution_count": 87,
   "metadata": {},
   "outputs": [],
   "source": [
    " def vermat(x): \n",
    "        ax1=plt.subplot(111,aspect='equal') \n",
    "        shape = grafmat(x) \n",
    "        for p in shape: ax1.add_patch(p) \n",
    "        plt.axis('off') \n",
    "        plt.show()\n"
   ]
  },
  {
   "cell_type": "code",
   "execution_count": 88,
   "metadata": {},
   "outputs": [
    {
     "data": {
      "image/png": "[encoded data removed]",
      "text/plain": [
       "<Figure size 432x288 with 1 Axes>"
      ]
     },
     "metadata": {
      "needs_background": "light"
     },
     "output_type": "display_data"
    }
   ],
   "source": [
    "vermat (res[0])"
   ]
  },
  {
   "cell_type": "code",
   "execution_count": 89,
   "metadata": {},
   "outputs": [],
   "source": [
    "def ver5(v,w,x, y, z): \n",
    "    fg = plt.figure(figsize=(20,4)) \n",
    "    adj = plt.subplots_adjust(hspace=0.4)\n",
    "    \n",
    "    ax0=plt.subplot(151,aspect='equal') \n",
    "    shape = grafmat(v) \n",
    "    for p in shape: ax0.add_patch(p) \n",
    "    plt.axis('off')\n",
    "    \n",
    "    ax1=plt.subplot(152,aspect='equal') \n",
    "    shape = grafmat(w) \n",
    "    for p in shape: ax1.add_patch(p) \n",
    "    plt.axis('off')\n",
    "    \n",
    "    ax2=plt.subplot(153,aspect='equal')  \n",
    "    shape = grafmat(x) \n",
    "    for p in shape: ax2.add_patch(p) \n",
    "    plt.axis('off')\n",
    "    \n",
    "    ax3=plt.subplot(154,aspect='equal') \n",
    "    shape = grafmat(y) \n",
    "    for p in shape: ax3.add_patch(p) \n",
    "    plt.axis('off')\n",
    "    \n",
    "    ax4=plt.subplot(155,aspect='equal') \n",
    "    shape = grafmat(z) \n",
    "    for p in shape: ax4.add_patch(p) \n",
    "    plt.axis('off')\n",
    "    plt.show()"
   ]
  },
  {
   "cell_type": "code",
   "execution_count": 90,
   "metadata": {},
   "outputs": [
    {
     "data": {
      "image/png": "[encoded data removed]",
      "text/plain": [
       "<Figure size 432x288 with 1 Axes>"
      ]
     },
     "metadata": {
      "needs_background": "light"
     },
     "output_type": "display_data"
    }
   ],
   "source": [
    "cor= correr(46, init)\n",
    "vermat(init)"
   ]
  },
  {
   "cell_type": "code",
   "execution_count": 79,
   "metadata": {},
   "outputs": [],
   "source": [
    " def base(): \n",
    "        Base = np.zeros((34,34)) \n",
    "        Base[12,12] = 1 \n",
    "        Base[12,16] = 1 \n",
    "        Base[12,20] = 1 \n",
    "        Base[16,12] = 1 \n",
    "        Base[16,16] = 1 \n",
    "        Base[16,20] = 1 \n",
    "        Base[20,12] = 1 \n",
    "        Base[20,16] = 1 \n",
    "        Base[20,20] = 1 \n",
    "        return Base\n"
   ]
  },
  {
   "cell_type": "code",
   "execution_count": 80,
   "metadata": {},
   "outputs": [],
   "source": [
    "m6 = base() \n",
    "m6[16,13] = 1 \n",
    "m6[16,14] = 1 \n",
    "m6[16,15] = 1 \n",
    "m6[16,17] = 1 \n",
    "m6[16,18] = 1\n",
    "m6[16,19] = 1 \n",
    "m6[17,20] = 1 \n",
    "m6[18,20] = 1 \n",
    "m6[19,20] = 1\n",
    "\n",
    "m7 = base() \n",
    "m7[12,13] = 1 \n",
    "m7[12,14] = 1 \n",
    "m7[12,15] = 1 \n",
    "m7[13,12] = 1 \n",
    "m7[14,12] = 1 \n",
    "m7[15,12] = 1 \n",
    "m7[17,12] = 1 \n",
    "m7[18,12] = 1 \n",
    "m7[19,12] = 1\n",
    "\n",
    "m8 = base() \n",
    "m8[12,13] = 1 \n",
    "m8[12,14] = 1 \n",
    "m8[12,15] = 1 \n",
    "m8[12,17] = 1 \n",
    "m8[12,18] = 1 \n",
    "m8[12,19] = 1 \n",
    "m8[15,17] = 1 \n",
    "m8[14,18] = 1 \n",
    "m8[13,19] = 1\n",
    "\n",
    "m9 = base() \n",
    "m9[19,13] = 1 \n",
    "m9[18,14] = 1 \n",
    "m9[17,15] = 1 \n",
    "m9[15,17] = 1 \n",
    "m9[14,18] = 1 \n",
    "m9[13,19] = 1 \n",
    "m9[13,20] = 1 \n",
    "m9[14,20] = 1 \n",
    "m9[15,20] = 1\n",
    "\n",
    "m10 = base() \n",
    "m10[13,12] = 1 \n",
    "m10[14,12] = 1 \n",
    "m10[15,12] = 1 \n",
    "m10[13,13] = 1 \n",
    "m10[14,14] = 1 \n",
    "m10[15,15] = 1 \n",
    "m10[17,16] = 1 \n",
    "m10[18,16] = 1 \n",
    "m10[19,16] = 1"
   ]
  },
  {
   "cell_type": "code",
   "execution_count": 93,
   "metadata": {},
   "outputs": [
    {
     "data": {
      "image/png": "[encoded data removed]",
      "text/plain": [
       "<Figure size 432x288 with 1 Axes>"
      ]
     },
     "metadata": {
      "needs_background": "light"
     },
     "output_type": "display_data"
    }
   ],
   "source": [
    "vermat (base())"
   ]
  },
  {
   "cell_type": "code",
   "execution_count": 82,
   "metadata": {},
   "outputs": [
    {
     "data": {
      "image/png": "[encoded data removed]",
      "text/plain": [
       "<Figure size 1440x288 with 5 Axes>"
      ]
     },
     "metadata": {
      "needs_background": "light"
     },
     "output_type": "display_data"
    }
   ],
   "source": [
    "ver5 (m6,m7,m8,m9,m10)"
   ]
  },
  {
   "cell_type": "code",
   "execution_count": 91,
   "metadata": {
    "scrolled": true
   },
   "outputs": [
    {
     "name": "stdout",
     "output_type": "stream",
     "text": [
      "Resultado\n"
     ]
    },
    {
     "data": {
      "image/png": "[encoded data removed]",
      "text/plain": [
       "<Figure size 1440x288 with 5 Axes>"
      ]
     },
     "metadata": {
      "needs_background": "light"
     },
     "output_type": "display_data"
    },
    {
     "data": {
      "image/png": "[encoded data removed]",
      "text/plain": [
       "<Figure size 1440x288 with 5 Axes>"
      ]
     },
     "metadata": {
      "needs_background": "light"
     },
     "output_type": "display_data"
    },
    {
     "data": {
      "image/png": "[encoded data removed]",
      "text/plain": [
       "<Figure size 1440x288 with 5 Axes>"
      ]
     },
     "metadata": {
      "needs_background": "light"
     },
     "output_type": "display_data"
    },
    {
     "data": {
      "image/png": "[encoded data removed]",
      "text/plain": [
       "<Figure size 1440x288 with 5 Axes>"
      ]
     },
     "metadata": {
      "needs_background": "light"
     },
     "output_type": "display_data"
    },
    {
     "data": {
      "image/png": "[encoded data removed]",
      "text/plain": [
       "<Figure size 1440x288 with 5 Axes>"
      ]
     },
     "metadata": {
      "needs_background": "light"
     },
     "output_type": "display_data"
    }
   ],
   "source": [
    "muestras = [m6,m7,m8,m9,m10] \n",
    "resultados = []\n",
    "for m in muestras: \n",
    "    r = correr(300, m) \n",
    "    resultados.append(r)\n",
    "    \n",
    "print(\"Resultado\") \n",
    "i = 1 \n",
    "for r in resultados: \n",
    "    ver5 (r[len(r)-5],r[len(r)-4],r[len(r)-3],r[len(r)-2],r[len(r)-1]) \n",
    "                                                                                                                                        \n",
    "    i = i + 1\n",
    "\n"
   ]
  },
  {
   "cell_type": "code",
   "execution_count": 92,
   "metadata": {},
   "outputs": [
    {
     "name": "stdout",
     "output_type": "stream",
     "text": [
      "Muestra  5\n"
     ]
    },
    {
     "data": {
      "image/png": "[encoded data removed]",
      "text/plain": [
       "<Figure size 432x288 with 1 Axes>"
      ]
     },
     "metadata": {
      "needs_background": "light"
     },
     "output_type": "display_data"
    },
    {
     "name": "stdout",
     "output_type": "stream",
     "text": [
      "{1: 90, 2: 115, 3: 80, 4: 116, 5: 81, 6: 100, 7: 94, 8: 105, 9: 94, 10: 97, 11: 85, 12: 84, 13: 90, 14: 97, 15: 90, 16: 103, 17: 84, 18: 85, 19: 63, 20: 66, 21: 62, 22: 61, 23: 66, 24: 74, 25: 77, 26: 99, 27: 87, 28: 115, 29: 106, 30: 131, 31: 124, 32: 135, 33: 146, 34: 172, 35: 103, 36: 118, 37: 111, 38: 115, 39: 123, 40: 113, 41: 112, 42: 114, 43: 115, 44: 125, 45: 127, 46: 126, 47: 136, 48: 146, 49: 139, 50: 138, 51: 140, 52: 150, 53: 159, 54: 156, 55: 155, 56: 150, 57: 161, 58: 146, 59: 153, 60: 161, 61: 179, 62: 168, 63: 181, 64: 187, 65: 184, 66: 198, 67: 182, 68: 190, 69: 186, 70: 195, 71: 199, 72: 183, 73: 185, 74: 189, 75: 204, 76: 194, 77: 181, 78: 205, 79: 193, 80: 207, 81: 196, 82: 200, 83: 174, 84: 170, 85: 167, 86: 173, 87: 160, 88: 161, 89: 154, 90: 143, 91: 149, 92: 153, 93: 154, 94: 160, 95: 144, 96: 159, 97: 160, 98: 141, 99: 159, 100: 137, 101: 142, 102: 141, 103: 140, 104: 151, 105: 149, 106: 134, 107: 143, 108: 143, 109: 150, 110: 148, 111: 156, 112: 136, 113: 138, 114: 141, 115: 146, 116: 137, 117: 143, 118: 137, 119: 132, 120: 134, 121: 134, 122: 133, 123: 130, 124: 139, 125: 140, 126: 141, 127: 121, 128: 119, 129: 119, 130: 124, 131: 129, 132: 136, 133: 129, 134: 133, 135: 137, 136: 141, 137: 125, 138: 136, 139: 129, 140: 139, 141: 124, 142: 128, 143: 118, 144: 120, 145: 117, 146: 118, 147: 113, 148: 117, 149: 113, 150: 105, 151: 106, 152: 99, 153: 92, 154: 89, 155: 90, 156: 89, 157: 88, 158: 86, 159: 85, 160: 83, 161: 83, 162: 83, 163: 83, 164: 83, 165: 83, 166: 83, 167: 83, 168: 83, 169: 83, 170: 83, 171: 83, 172: 83, 173: 83, 174: 83, 175: 83, 176: 83, 177: 83, 178: 83, 179: 83, 180: 83, 181: 83, 182: 83, 183: 83, 184: 83, 185: 83, 186: 83, 187: 83, 188: 83, 189: 83, 190: 83, 191: 83, 192: 83, 193: 83, 194: 83, 195: 83, 196: 83, 197: 83, 198: 83, 199: 83, 200: 83, 201: 83, 202: 83, 203: 83, 204: 83, 205: 83, 206: 83, 207: 83, 208: 83, 209: 83, 210: 83, 211: 83, 212: 83, 213: 83, 214: 83, 215: 83, 216: 83, 217: 83, 218: 83, 219: 83, 220: 83, 221: 83, 222: 83, 223: 83, 224: 83, 225: 83, 226: 83, 227: 83, 228: 83, 229: 83, 230: 83, 231: 83, 232: 83, 233: 83, 234: 83, 235: 83, 236: 83, 237: 83, 238: 83, 239: 83, 240: 83, 241: 83, 242: 83, 243: 83, 244: 83, 245: 83, 246: 83, 247: 83, 248: 83, 249: 83, 250: 83, 251: 83, 252: 83, 253: 83, 254: 83, 255: 83, 256: 83, 257: 83, 258: 83, 259: 83, 260: 83, 261: 83, 262: 83, 263: 83, 264: 83, 265: 83, 266: 83, 267: 83, 268: 83, 269: 83, 270: 83, 271: 83, 272: 83, 273: 83, 274: 83, 275: 83, 276: 83, 277: 83, 278: 83, 279: 83, 280: 83, 281: 83, 282: 83, 283: 83, 284: 83, 285: 83, 286: 83, 287: 83, 288: 83, 289: 83, 290: 83, 291: 83, 292: 83, 293: 83, 294: 83, 295: 83, 296: 83, 297: 83, 298: 83, 299: 83, 300: 83, 301: 83}\n"
     ]
    },
    {
     "data": {
      "image/png": "[encoded data removed]",
      "text/plain": [
       "<Figure size 432x288 with 1 Axes>"
      ]
     },
     "metadata": {
      "needs_background": "light"
     },
     "output_type": "display_data"
    }
   ],
   "source": [
    "import simpy \n",
    "import random \n",
    "import matplotlib.pyplot as pp\n",
    "\n",
    "dms={} \n",
    "dm={} \n",
    "j = 0 \n",
    "for r in resultados:\n",
    "    j = j + 1 \n",
    "    i = 0\n",
    "    for m in r: \n",
    "        i = i + 1 \n",
    "        for fila in range(len(m)): \n",
    "            for columna in range(len(m)): \n",
    "                if m[fila][columna] == 1: \n",
    "                    if i in dm: \n",
    "                        dm[i]=dm[i]+1 \n",
    "                    else: \n",
    "                        dm[i]=1\n",
    "dms[5]=dm\n",
    "dm={}\n",
    "\n",
    "# Generamos la grafica \n",
    "for key, dicm in dms.items(): \n",
    "    print (\"Muestra \", key) \n",
    "    vermat (muestras[key-1]) \n",
    "    print (dicm) \n",
    "    datos=sorted(dicm.items()) \n",
    "    x, y =zip(*datos) \n",
    "    pp.plot(x,y,linewidth=2,color='red') \n",
    "    pp.scatter(x,y,color='blue') \n",
    "    pp.grid(True) \n",
    "    pp.title(\"Muestra %s\" %(key)) \n",
    "    pp.xlabel('Interacciones') \n",
    "    pp.ylabel('Celulas Vivas')\n",
    "    pp.show()"
   ]
  }
 ],
 "metadata": {
  "kernelspec": {
   "display_name": "sillanes",
   "language": "python",
   "name": "sillanes"
  },
  "language_info": {
   "codemirror_mode": {
    "name": "ipython",
    "version": 3
   },
   "file_extension": ".py",
   "mimetype": "text/x-python",
   "name": "python",
   "nbconvert_exporter": "python",
   "pygments_lexer": "ipython3",
   "version": "3.7.3"
  }
 },
 "nbformat": 4,
 "nbformat_minor": 2
}
